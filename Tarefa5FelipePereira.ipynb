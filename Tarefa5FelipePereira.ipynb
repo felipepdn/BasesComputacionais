{
  "nbformat": 4,
  "nbformat_minor": 0,
  "metadata": {
    "colab": {
      "provenance": [],
      "collapsed_sections": [],
      "authorship_tag": "ABX9TyO9WLhpGhXEE+FU6ZCJH+TY",
      "include_colab_link": true
    },
    "kernelspec": {
      "name": "python3",
      "display_name": "Python 3"
    },
    "language_info": {
      "name": "python"
    }
  },
  "cells": [
    {
      "cell_type": "markdown",
      "metadata": {
        "id": "view-in-github",
        "colab_type": "text"
      },
      "source": [
        "<a href=\"https://colab.research.google.com/github/felipepdn/BasesComputacionais/blob/master/Tarefa5FelipePereira.ipynb\" target=\"_parent\"><img src=\"https://colab.research.google.com/assets/colab-badge.svg\" alt=\"Open In Colab\"/></a>"
      ]
    },
    {
      "cell_type": "markdown",
      "source": [
        "# Felipe Pereira de Neiva"
      ],
      "metadata": {
        "id": "nhav4vDfbrDM"
      }
    },
    {
      "cell_type": "code",
      "source": [
        "import numpy as np\n",
        "import matplotlib.pyplot as plt"
      ],
      "metadata": {
        "id": "HKZ3W2-YcYuz"
      },
      "execution_count": 2,
      "outputs": []
    },
    {
      "cell_type": "code",
      "source": [
        "t = np.arange(0, 5, 0.1)\n",
        "a = -t**2 + t*4\n",
        "plt.figure(figsize=(10,7))\n",
        "plt.plot(t, a, color='blue', marker='s', linestyle='dotted')\n",
        "plt.grid()\n",
        "plt.title('Bola lançada')\n",
        "plt.xlabel('Segundos') \n",
        "plt.ylabel('Metros')\n",
        "plt.show()"
      ],
      "metadata": {
        "colab": {
          "base_uri": "https://localhost:8080/",
          "height": 458
        },
        "id": "HcINDzN4byQr",
        "outputId": "67e944f6-8aed-44bc-f849-a67df1a0ce9b"
      },
      "execution_count": 35,
      "outputs": [
        {
          "output_type": "display_data",
          "data": {
            "text/plain": [
              "<Figure size 720x504 with 1 Axes>"
            ],
            "image/png": "[encoded data removed]"
          },
          "metadata": {
            "needs_background": "light"
          }
        }
      ]
    },
    {
      "cell_type": "code",
      "source": [
        "np.max(t)"
      ],
      "metadata": {
        "colab": {
          "base_uri": "https://localhost:8080/"
        },
        "id": "HXqV5Mn8gSiU",
        "outputId": "16a71188-3ef6-4455-e38c-d1936632451f"
      },
      "execution_count": 36,
      "outputs": [
        {
          "output_type": "execute_result",
          "data": {
            "text/plain": [
              "4.9"
            ]
          },
          "metadata": {},
          "execution_count": 36
        }
      ]
    },
    {
      "cell_type": "code",
      "source": [],
      "metadata": {
        "id": "VPwv7auxgyDE"
      },
      "execution_count": null,
      "outputs": []
    }
  ]
}