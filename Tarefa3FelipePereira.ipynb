{
  "nbformat": 4,
  "nbformat_minor": 0,
  "metadata": {
    "colab": {
      "provenance": [],
      "authorship_tag": "ABX9TyOG/5iBOaunBlC9Hw1Tks6E",
      "include_colab_link": true
    },
    "kernelspec": {
      "name": "python3",
      "display_name": "Python 3"
    },
    "language_info": {
      "name": "python"
    }
  },
  "cells": [
    {
      "cell_type": "markdown",
      "metadata": {
        "id": "view-in-github",
        "colab_type": "text"
      },
      "source": [
        "<a href=\"https://colab.research.google.com/github/felipepdn/BasesComputacionais/blob/master/Tarefa3FelipePereira.ipynb\" target=\"_parent\"><img src=\"https://colab.research.google.com/assets/colab-badge.svg\" alt=\"Open In Colab\"/></a>"
      ]
    },
    {
      "cell_type": "markdown",
      "source": [
        "#Tarefa 3\n",
        "Felipe Pereira de Neiva RA 11202231614"
      ],
      "metadata": {
        "id": "tkRfuQNpZRmJ"
      }
    },
    {
      "cell_type": "code",
      "execution_count": 11,
      "metadata": {
        "id": "dFmXG_cYRY1F",
        "colab": {
          "base_uri": "https://localhost:8080/"
        },
        "outputId": "085eab2e-c474-4603-9be5-15c4ef4c36e8"
      },
      "outputs": [
        {
          "output_type": "stream",
          "name": "stdout",
          "text": [
            "1,5 horas:5400.0\n",
            "12 horas:43200\n",
            "24 horas:86400\n"
          ]
        }
      ],
      "source": [
        "m = 60\n",
        "h = m*60\n",
        "print(f'1,5 horas:{h*1.5}')\n",
        "print(f'12 horas:{h*12}')\n",
        "print(f'24 horas:{h*24}')"
      ]
    },
    {
      "cell_type": "code",
      "source": [
        "m = 60\n",
        "h = m*60\n"
      ],
      "metadata": {
        "id": "GfcUqazra-1G"
      },
      "execution_count": null,
      "outputs": []
    }
  ]
}